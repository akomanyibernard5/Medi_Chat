{
  "cells": [
    {
      "cell_type": "code",
      "execution_count": null,
      "metadata": {
        "colab": {
          "base_uri": "https://localhost:8080/"
        },
        "id": "9h8etCi3Rlo0",
        "outputId": "172e3197-cae2-4cb0-a2ed-d9a2bbaa2460"
      },
      "outputs": [
        {
          "output_type": "stream",
          "name": "stdout",
          "text": [
            "Mounted at /content/drive\n",
            "/content/drive/MyDrive/Backend_old\n"
          ]
        }
      ],
      "source": [
        "# Mounting Google Drive and Set Up\n",
        "from google.colab import drive\n",
        "import sys\n",
        "\n",
        "drive.mount('/content/drive')\n",
        "%cd /content/drive/MyDrive/Backend_old\n",
        "sys.path.append('/content/drive/MyDrive/Backend_old')"
      ]
    },
    {
      "cell_type": "code",
      "execution_count": null,
      "metadata": {
        "id": "TXmPUs_HRoAz",
        "colab": {
          "base_uri": "https://localhost:8080/"
        },
        "outputId": "71b72ed3-1158-4e5f-a68d-4618dc3ba18a"
      },
      "outputs": [
        {
          "output_type": "stream",
          "name": "stderr",
          "text": [
            "[nltk_data] Downloading package punkt_tab to /root/nltk_data...\n",
            "[nltk_data]   Package punkt_tab is already up-to-date!\n"
          ]
        },
        {
          "output_type": "execute_result",
          "data": {
            "text/plain": [
              "True"
            ]
          },
          "metadata": {},
          "execution_count": 21
        }
      ],
      "source": [
        "# Import libraries\n",
        "import json\n",
        "import pickle\n",
        "import torch\n",
        "import random\n",
        "import itertools\n",
        "import torch.nn as nn\n",
        "from torch.utils.data import Dataset, DataLoader, random_split\n",
        "import numpy as np\n",
        "import pandas as pd\n",
        "import matplotlib.pyplot as plt\n",
        "from sklearn.model_selection import train_test_split, cross_val_score, RepeatedStratifiedKFold\n",
        "from sklearn.preprocessing import LabelEncoder\n",
        "from sklearn.metrics import accuracy_score, confusion_matrix, classification_report\n",
        "from sklearn.neighbors import KNeighborsClassifier\n",
        "from sklearn.tree import DecisionTreeClassifier\n",
        "from sklearn.linear_model import LogisticRegression\n",
        "from sklearn.svm import SVC\n",
        "from sklearn.ensemble import StackingClassifier\n",
        "import seaborn as sns\n",
        "import nltk\n",
        "nltk.download('punkt_tab')"
      ]
    },
    {
      "cell_type": "code",
      "source": [
        "# Import custom modules\n",
        "from nltk_utils import tokenize, stem, build_vocab, sentence_to_indices\n",
        "from nnet import NeuralNet"
      ],
      "metadata": {
        "id": "S8EVmLoNApvs"
      },
      "execution_count": null,
      "outputs": []
    },
    {
      "cell_type": "markdown",
      "source": [
        "#Building the Symptom Extraction Model (Multi-label Classification)"
      ],
      "metadata": {
        "id": "jHGphrS_j025"
      }
    },
    {
      "cell_type": "code",
      "execution_count": null,
      "metadata": {
        "id": "UcPk_rl_R1Us"
      },
      "outputs": [],
      "source": [
        "# Load dataset\n",
        "with open(\"multi_label_dataset.json\", \"r\") as f:\n",
        "    data = json.load(f)"
      ]
    },
    {
      "cell_type": "code",
      "source": [
        "# Prepare tag mappings\n",
        "all_tags = sorted(set(tag for item in data for tag in item['tags']))\n",
        "tag2idx = {tag: idx for idx, tag in enumerate(all_tags)}"
      ],
      "metadata": {
        "id": "5q6HAisZBCPV"
      },
      "execution_count": null,
      "outputs": []
    },
    {
      "cell_type": "code",
      "source": [
        "# Build vocabulary\n",
        "all_sentences = [item[\"sentence\"] for item in data]\n",
        "vocab, word2idx = build_vocab(all_sentences)"
      ],
      "metadata": {
        "id": "hFQv0exuBGyY"
      },
      "execution_count": null,
      "outputs": []
    },
    {
      "cell_type": "code",
      "source": [
        "# Fixed Hyperparameters\n",
        "max_len = 10\n",
        "output_size = len(all_tags)\n",
        "vocab_size = len(word2idx)\n",
        "batch_size = 8\n",
        "num_epochs = 20\n",
        "\n",
        "# Hyperparameter search space\n",
        "hidden_sizes = [32, 64, 128]\n",
        "learning_rates = [0.001, 0.0005]\n",
        "embed_sizes = [32, 64]"
      ],
      "metadata": {
        "id": "Fi6zQw3KBJAG"
      },
      "execution_count": null,
      "outputs": []
    },
    {
      "cell_type": "code",
      "source": [
        "# Prepare training data\n",
        "X_all, y_all = [], []\n",
        "for item in data:\n",
        "    indices = sentence_to_indices(item[\"sentence\"], word2idx, max_len)\n",
        "    label_vector = [0] * output_size\n",
        "    for tag in item[\"tags\"]:\n",
        "        label_vector[tag2idx[tag]] = 1\n",
        "    X_all.append(indices)\n",
        "    y_all.append(label_vector)\n",
        "\n",
        "X_all = torch.tensor(X_all, dtype=torch.long)\n",
        "y_all = torch.tensor(y_all, dtype=torch.float32)"
      ],
      "metadata": {
        "colab": {
          "base_uri": "https://localhost:8080/"
        },
        "id": "r2qVKyJ3BLGD",
        "outputId": "ecac6fed-77d3-4e7a-b4f5-d84fb3b74906"
      },
      "execution_count": null,
      "outputs": [
        {
          "output_type": "stream",
          "name": "stderr",
          "text": [
            "<ipython-input-8-19dd2556b09b>:11: UserWarning: Creating a tensor from a list of numpy.ndarrays is extremely slow. Please consider converting the list to a single numpy.ndarray with numpy.array() before converting to a tensor. (Triggered internally at /pytorch/torch/csrc/utils/tensor_new.cpp:254.)\n",
            "  X_all = torch.tensor(X_all, dtype=torch.long)\n"
          ]
        }
      ]
    },
    {
      "cell_type": "code",
      "source": [
        "# Split into train and validation\n",
        "dataset = torch.utils.data.TensorDataset(X_all, y_all)\n",
        "train_size = int(0.8 * len(dataset))\n",
        "val_size = len(dataset) - train_size\n",
        "train_dataset, val_dataset = random_split(dataset, [train_size, val_size])\n",
        "train_loader = DataLoader(train_dataset, batch_size=batch_size, shuffle=True)\n",
        "val_loader = DataLoader(val_dataset, batch_size=batch_size)"
      ],
      "metadata": {
        "id": "INKwe-KEBPe9"
      },
      "execution_count": null,
      "outputs": []
    },
    {
      "cell_type": "code",
      "source": [
        "# Model setup\n",
        "model = NeuralNet(vocab_size, embed_size, hidden_size, output_size, max_len)\n",
        "criterion = nn.BCEWithLogitsLoss()\n",
        "optimizer = torch.optim.Adam(model.parameters(), lr=learning_rate)"
      ],
      "metadata": {
        "id": "092Hn9sYBXmG"
      },
      "execution_count": null,
      "outputs": []
    },
    {
      "cell_type": "code",
      "source": [
        "# Track best model\n",
        "best_val_loss = float('inf')\n",
        "best_hyperparams = None"
      ],
      "metadata": {
        "id": "fr5UyGqZGaHF"
      },
      "execution_count": null,
      "outputs": []
    },
    {
      "cell_type": "code",
      "source": [
        "# Random search setup\n",
        "n_trials = 5\n",
        "best_val_loss = float('inf')\n",
        "best_hyperparams = None\n",
        "\n",
        "for trial in range(n_trials):\n",
        "    # Randomly pick one of each\n",
        "    hidden_size = random.choice(hidden_sizes)\n",
        "    learning_rate = random.choice(learning_rates)\n",
        "    embed_size = random.choice(embed_sizes)\n",
        "\n",
        "    print(f\"Trial {trial+1}/{n_trials}: hidden_size={hidden_size}, learning_rate={learning_rate}, embed_size={embed_size}\")\n",
        "\n",
        "    # Model setup\n",
        "    model = NeuralNet(vocab_size, embed_size, hidden_size, output_size, max_len)\n",
        "    criterion = nn.BCEWithLogitsLoss()\n",
        "    optimizer = torch.optim.Adam(model.parameters(), lr=learning_rate)\n",
        "\n",
        "    train_losses, val_losses = [], []\n",
        "\n",
        "    # Train normally for num_epochs\n",
        "    for epoch in range(num_epochs):\n",
        "        model.train()\n",
        "        running_loss = 0\n",
        "        for words, labels in train_loader:\n",
        "            optimizer.zero_grad()\n",
        "            outputs = model(words)\n",
        "            loss = criterion(outputs, labels)\n",
        "            loss.backward()\n",
        "            optimizer.step()\n",
        "            running_loss += loss.item()\n",
        "        train_losses.append(running_loss / len(train_loader))\n",
        "\n",
        "        model.eval()\n",
        "        val_loss = 0\n",
        "        with torch.no_grad():\n",
        "            for words, labels in val_loader:\n",
        "                outputs = model(words)\n",
        "                val_loss += criterion(outputs, labels).item()\n",
        "        val_losses.append(val_loss / len(val_loader))\n",
        "        print(f\"Epoch [{epoch+1}/{num_epochs}], Train Loss: {train_losses[-1]:.4f}, Val Loss: {val_losses[-1]:.4f}\")\n",
        "\n",
        "    final_val_loss = val_losses[-1]\n",
        "    print(f\"Final Validation Loss: {final_val_loss:.4f}\")\n",
        "\n",
        "    # Save best model\n",
        "    if final_val_loss < best_val_loss:\n",
        "        best_val_loss = final_val_loss\n",
        "        best_hyperparams = {\n",
        "            \"hidden_size\": hidden_size,\n",
        "            \"learning_rate\": learning_rate,\n",
        "            \"embed_size\": embed_size\n",
        "        }\n",
        "        model_data = {\n",
        "            \"model_state\": model.state_dict(),\n",
        "            \"input_size\": max_len,\n",
        "            \"hidden_size\": hidden_size,\n",
        "            \"output_size\": output_size,\n",
        "            \"vocab_size\": vocab_size,\n",
        "            \"tags\": all_tags,\n",
        "            \"word2idx\": word2idx,\n",
        "            \"embed_size\": embed_size\n",
        "        }\n",
        "        torch.save(model_data, \"models/best_multi_label_model.pth\")\n",
        "        with open(\"models/best_multi_word2idx.pkl\", \"wb\") as f:\n",
        "            pickle.dump(word2idx, f)\n",
        "\n",
        "print(\"\\nBest Validation Loss:\", best_val_loss)\n",
        "print(\"Best Hyperparameters:\", best_hyperparams)"
      ],
      "metadata": {
        "colab": {
          "base_uri": "https://localhost:8080/"
        },
        "id": "7DGFUqkSBhn7",
        "outputId": "9ece8399-5a34-42f6-ebe0-cf5369fb1948"
      },
      "execution_count": null,
      "outputs": [
        {
          "output_type": "stream",
          "name": "stdout",
          "text": [
            "Trial 1/5: hidden_size=128, learning_rate=0.0005, embed_size=64\n",
            "Epoch [1/20], Train Loss: 0.1940, Val Loss: 0.1107\n",
            "Epoch [2/20], Train Loss: 0.1021, Val Loss: 0.0995\n",
            "Epoch [3/20], Train Loss: 0.0951, Val Loss: 0.0959\n",
            "Epoch [4/20], Train Loss: 0.0906, Val Loss: 0.0922\n",
            "Epoch [5/20], Train Loss: 0.0863, Val Loss: 0.0882\n",
            "Epoch [6/20], Train Loss: 0.0815, Val Loss: 0.0839\n",
            "Epoch [7/20], Train Loss: 0.0768, Val Loss: 0.0797\n",
            "Epoch [8/20], Train Loss: 0.0723, Val Loss: 0.0762\n",
            "Epoch [9/20], Train Loss: 0.0685, Val Loss: 0.0733\n",
            "Epoch [10/20], Train Loss: 0.0650, Val Loss: 0.0710\n",
            "Epoch [11/20], Train Loss: 0.0622, Val Loss: 0.0693\n",
            "Epoch [12/20], Train Loss: 0.0599, Val Loss: 0.0680\n",
            "Epoch [13/20], Train Loss: 0.0578, Val Loss: 0.0669\n",
            "Epoch [14/20], Train Loss: 0.0560, Val Loss: 0.0660\n",
            "Epoch [15/20], Train Loss: 0.0543, Val Loss: 0.0650\n",
            "Epoch [16/20], Train Loss: 0.0528, Val Loss: 0.0643\n",
            "Epoch [17/20], Train Loss: 0.0514, Val Loss: 0.0637\n",
            "Epoch [18/20], Train Loss: 0.0500, Val Loss: 0.0632\n",
            "Epoch [19/20], Train Loss: 0.0488, Val Loss: 0.0628\n",
            "Epoch [20/20], Train Loss: 0.0476, Val Loss: 0.0623\n",
            "Final Validation Loss: 0.0623\n",
            "Trial 2/5: hidden_size=64, learning_rate=0.0005, embed_size=64\n",
            "Epoch [1/20], Train Loss: 0.2092, Val Loss: 0.1183\n",
            "Epoch [2/20], Train Loss: 0.1070, Val Loss: 0.1036\n",
            "Epoch [3/20], Train Loss: 0.0991, Val Loss: 0.1007\n",
            "Epoch [4/20], Train Loss: 0.0968, Val Loss: 0.0995\n",
            "Epoch [5/20], Train Loss: 0.0955, Val Loss: 0.0980\n",
            "Epoch [6/20], Train Loss: 0.0932, Val Loss: 0.0952\n",
            "Epoch [7/20], Train Loss: 0.0898, Val Loss: 0.0921\n",
            "Epoch [8/20], Train Loss: 0.0864, Val Loss: 0.0893\n",
            "Epoch [9/20], Train Loss: 0.0833, Val Loss: 0.0864\n",
            "Epoch [10/20], Train Loss: 0.0799, Val Loss: 0.0836\n",
            "Epoch [11/20], Train Loss: 0.0765, Val Loss: 0.0810\n",
            "Epoch [12/20], Train Loss: 0.0733, Val Loss: 0.0786\n",
            "Epoch [13/20], Train Loss: 0.0705, Val Loss: 0.0767\n",
            "Epoch [14/20], Train Loss: 0.0683, Val Loss: 0.0753\n",
            "Epoch [15/20], Train Loss: 0.0664, Val Loss: 0.0741\n",
            "Epoch [16/20], Train Loss: 0.0647, Val Loss: 0.0730\n",
            "Epoch [17/20], Train Loss: 0.0631, Val Loss: 0.0721\n",
            "Epoch [18/20], Train Loss: 0.0617, Val Loss: 0.0712\n",
            "Epoch [19/20], Train Loss: 0.0603, Val Loss: 0.0703\n",
            "Epoch [20/20], Train Loss: 0.0590, Val Loss: 0.0696\n",
            "Final Validation Loss: 0.0696\n",
            "Trial 3/5: hidden_size=64, learning_rate=0.001, embed_size=64\n",
            "Epoch [1/20], Train Loss: 0.1607, Val Loss: 0.1041\n",
            "Epoch [2/20], Train Loss: 0.0983, Val Loss: 0.0990\n",
            "Epoch [3/20], Train Loss: 0.0941, Val Loss: 0.0955\n",
            "Epoch [4/20], Train Loss: 0.0897, Val Loss: 0.0900\n",
            "Epoch [5/20], Train Loss: 0.0835, Val Loss: 0.0844\n",
            "Epoch [6/20], Train Loss: 0.0779, Val Loss: 0.0806\n",
            "Epoch [7/20], Train Loss: 0.0733, Val Loss: 0.0774\n",
            "Epoch [8/20], Train Loss: 0.0696, Val Loss: 0.0747\n",
            "Epoch [9/20], Train Loss: 0.0661, Val Loss: 0.0725\n",
            "Epoch [10/20], Train Loss: 0.0628, Val Loss: 0.0702\n",
            "Epoch [11/20], Train Loss: 0.0598, Val Loss: 0.0681\n",
            "Epoch [12/20], Train Loss: 0.0570, Val Loss: 0.0666\n",
            "Epoch [13/20], Train Loss: 0.0547, Val Loss: 0.0658\n",
            "Epoch [14/20], Train Loss: 0.0527, Val Loss: 0.0644\n",
            "Epoch [15/20], Train Loss: 0.0509, Val Loss: 0.0636\n",
            "Epoch [16/20], Train Loss: 0.0493, Val Loss: 0.0631\n",
            "Epoch [17/20], Train Loss: 0.0478, Val Loss: 0.0624\n",
            "Epoch [18/20], Train Loss: 0.0464, Val Loss: 0.0620\n",
            "Epoch [19/20], Train Loss: 0.0452, Val Loss: 0.0616\n",
            "Epoch [20/20], Train Loss: 0.0440, Val Loss: 0.0614\n",
            "Final Validation Loss: 0.0614\n",
            "Trial 4/5: hidden_size=32, learning_rate=0.001, embed_size=64\n",
            "Epoch [1/20], Train Loss: 0.1774, Val Loss: 0.1095\n",
            "Epoch [2/20], Train Loss: 0.1022, Val Loss: 0.1016\n",
            "Epoch [3/20], Train Loss: 0.0977, Val Loss: 0.1001\n",
            "Epoch [4/20], Train Loss: 0.0965, Val Loss: 0.0993\n",
            "Epoch [5/20], Train Loss: 0.0955, Val Loss: 0.0977\n",
            "Epoch [6/20], Train Loss: 0.0927, Val Loss: 0.0937\n",
            "Epoch [7/20], Train Loss: 0.0880, Val Loss: 0.0892\n",
            "Epoch [8/20], Train Loss: 0.0834, Val Loss: 0.0858\n",
            "Epoch [9/20], Train Loss: 0.0794, Val Loss: 0.0828\n",
            "Epoch [10/20], Train Loss: 0.0756, Val Loss: 0.0802\n",
            "Epoch [11/20], Train Loss: 0.0723, Val Loss: 0.0778\n",
            "Epoch [12/20], Train Loss: 0.0692, Val Loss: 0.0760\n",
            "Epoch [13/20], Train Loss: 0.0666, Val Loss: 0.0745\n",
            "Epoch [14/20], Train Loss: 0.0644, Val Loss: 0.0730\n",
            "Epoch [15/20], Train Loss: 0.0624, Val Loss: 0.0719\n",
            "Epoch [16/20], Train Loss: 0.0606, Val Loss: 0.0711\n",
            "Epoch [17/20], Train Loss: 0.0590, Val Loss: 0.0701\n",
            "Epoch [18/20], Train Loss: 0.0576, Val Loss: 0.0693\n",
            "Epoch [19/20], Train Loss: 0.0563, Val Loss: 0.0686\n",
            "Epoch [20/20], Train Loss: 0.0550, Val Loss: 0.0679\n",
            "Final Validation Loss: 0.0679\n",
            "Trial 5/5: hidden_size=128, learning_rate=0.001, embed_size=32\n",
            "Epoch [1/20], Train Loss: 0.1484, Val Loss: 0.1005\n",
            "Epoch [2/20], Train Loss: 0.0948, Val Loss: 0.0960\n",
            "Epoch [3/20], Train Loss: 0.0893, Val Loss: 0.0891\n",
            "Epoch [4/20], Train Loss: 0.0819, Val Loss: 0.0829\n",
            "Epoch [5/20], Train Loss: 0.0755, Val Loss: 0.0786\n",
            "Epoch [6/20], Train Loss: 0.0708, Val Loss: 0.0754\n",
            "Epoch [7/20], Train Loss: 0.0669, Val Loss: 0.0725\n",
            "Epoch [8/20], Train Loss: 0.0634, Val Loss: 0.0704\n",
            "Epoch [9/20], Train Loss: 0.0606, Val Loss: 0.0687\n",
            "Epoch [10/20], Train Loss: 0.0582, Val Loss: 0.0674\n",
            "Epoch [11/20], Train Loss: 0.0559, Val Loss: 0.0663\n",
            "Epoch [12/20], Train Loss: 0.0541, Val Loss: 0.0657\n",
            "Epoch [13/20], Train Loss: 0.0523, Val Loss: 0.0646\n",
            "Epoch [14/20], Train Loss: 0.0508, Val Loss: 0.0638\n",
            "Epoch [15/20], Train Loss: 0.0493, Val Loss: 0.0634\n",
            "Epoch [16/20], Train Loss: 0.0481, Val Loss: 0.0630\n",
            "Epoch [17/20], Train Loss: 0.0468, Val Loss: 0.0627\n",
            "Epoch [18/20], Train Loss: 0.0458, Val Loss: 0.0626\n",
            "Epoch [19/20], Train Loss: 0.0447, Val Loss: 0.0627\n",
            "Epoch [20/20], Train Loss: 0.0437, Val Loss: 0.0623\n",
            "Final Validation Loss: 0.0623\n",
            "\n",
            "Best Validation Loss: 0.06135093706846237\n",
            "Best Hyperparameters: {'hidden_size': 64, 'learning_rate': 0.001, 'embed_size': 64}\n"
          ]
        }
      ]
    },
    {
      "cell_type": "code",
      "source": [
        "plt.figure(figsize=(8,6))\n",
        "plt.plot(train_losses, label='Train Loss')\n",
        "plt.plot(val_losses, label='Validation Loss')\n",
        "plt.xlabel('Epoch')\n",
        "plt.ylabel('Loss')\n",
        "plt.title('Training vs Validation Loss')\n",
        "plt.legend()\n",
        "plt.grid(True)\n",
        "plt.show()"
      ],
      "metadata": {
        "colab": {
          "base_uri": "https://localhost:8080/",
          "height": 564
        },
        "id": "IL_RP0SSRcSv",
        "outputId": "4e4a13f0-64a0-4eca-ab59-6d1a5132c463"
      },
      "execution_count": null,
      "outputs": [
        {
          "output_type": "display_data",
          "data": {
            "text/plain": [
              "<Figure size 800x600 with 1 Axes>"
            ],
            "image/png": "[encoded data removed]"
          },
          "metadata": {}
        }
      ]
    },
    {
      "cell_type": "markdown",
      "source": [
        "# **Build Disease Prediction Model (Stacked Ensemble)**"
      ],
      "metadata": {
        "id": "ZzFwNydZU4jw"
      }
    },
    {
      "cell_type": "code",
      "source": [
        "# Load disease dataset\n",
        "df = pd.read_csv(\"Training.csv\")\n",
        "df.drop(columns=[col for col in df.columns if 'Unnamed' in col], inplace=True)\n",
        "\n",
        "X = df.drop(\"prognosis\", axis=1).astype(int)\n",
        "y = df[\"prognosis\"]"
      ],
      "metadata": {
        "id": "8QExfl8eU628"
      },
      "execution_count": null,
      "outputs": []
    },
    {
      "cell_type": "code",
      "source": [
        "# Encode target variable\n",
        "le = LabelEncoder()\n",
        "y_encoded = le.fit_transform(y)"
      ],
      "metadata": {
        "id": "24V1AIT9U-vf"
      },
      "execution_count": null,
      "outputs": []
    },
    {
      "cell_type": "code",
      "source": [
        "# Save mappings\n",
        "with open(\"label_encoder.pkl\", \"wb\") as f:\n",
        "    pickle.dump(le, f)\n",
        "with open(\"list_of_symptoms.pickle\", \"wb\") as f:\n",
        "    pickle.dump(X.columns.tolist(), f)"
      ],
      "metadata": {
        "id": "14ckwlnTVEAy"
      },
      "execution_count": null,
      "outputs": []
    },
    {
      "cell_type": "code",
      "source": [
        "# Split dataset\n",
        "X_train, X_test, y_train, y_test = train_test_split(X, y_encoded, test_size=0.2, stratify=y_encoded, random_state=42)"
      ],
      "metadata": {
        "id": "tVqD0157VGJx"
      },
      "execution_count": null,
      "outputs": []
    },
    {
      "cell_type": "code",
      "source": [
        "# Cross-validation function\n",
        "def cross_validation(X_train, y_train, model_name, parameter_range=15):\n",
        "    train_errors, test_errors = [], []\n",
        "    parameters = np.arange(1, parameter_range + 1)\n",
        "\n",
        "    for parameter in parameters:\n",
        "        if model_name == 'knn':\n",
        "            model = KNeighborsClassifier(n_neighbors=parameter)\n",
        "        elif model_name == 'logreg':\n",
        "            model = LogisticRegression(solver='liblinear', C=1/(parameter*10))\n",
        "        elif model_name == 'dctree':\n",
        "            model = DecisionTreeClassifier(splitter='random', max_depth=parameter)\n",
        "        elif model_name == 'svm':\n",
        "            model = SVC(C=1/(parameter*5))\n",
        "\n",
        "        model.fit(X_train, y_train)\n",
        "        train_errors.append(1 - model.score(X_train, y_train))\n",
        "        test_errors.append(1 - model.score(X_test, y_test))\n",
        "\n",
        "    return parameters, train_errors, test_errors"
      ],
      "metadata": {
        "id": "FF310RjSVImE"
      },
      "execution_count": null,
      "outputs": []
    },
    {
      "cell_type": "code",
      "source": [
        "# Find best hyperparameters\n",
        "best_params = {}\n",
        "model_names = ['knn', 'dctree', 'logreg', 'svm']\n",
        "for model_name in model_names:\n",
        "    parameters, train_errors, test_errors = cross_validation(X_train, y_train, model_name)\n",
        "    plt.plot(parameters, test_errors, label=f\"{model_name} test error\")\n",
        "    plt.plot(parameters, train_errors, linestyle='--', label=f\"{model_name} train error\")\n",
        "    if model_name == 'logreg':\n",
        "        best_params[model_name] = 1/(parameters[np.argmin(test_errors)]*10)\n",
        "    elif model_name == 'svm':\n",
        "        best_params[model_name] = 1/(parameters[np.argmin(test_errors)]*5)\n",
        "    else:\n",
        "        best_params[model_name] = parameters[np.argmin(test_errors)]\n",
        "\n",
        "plt.xlabel('Parameter')\n",
        "plt.ylabel('Error')\n",
        "plt.title('Error vs Parameter during Cross Validation')\n",
        "plt.legend()\n",
        "plt.grid(True)\n",
        "plt.show()"
      ],
      "metadata": {
        "colab": {
          "base_uri": "https://localhost:8080/",
          "height": 472
        },
        "id": "v-eGsKBgVKq1",
        "outputId": "e5f26c63-1897-4b24-b29c-15d89982930e"
      },
      "execution_count": null,
      "outputs": [
        {
          "output_type": "display_data",
          "data": {
            "text/plain": [
              "<Figure size 640x480 with 1 Axes>"
            ],
            "image/png": "[encoded data removed]"
          },
          "metadata": {}
        }
      ]
    },
    {
      "cell_type": "code",
      "source": [
        "# Build stacking ensemble\n",
        "base_models = [\n",
        "    ('lr', LogisticRegression(solver='liblinear', C=best_params['logreg'])),\n",
        "    ('knn', KNeighborsClassifier(n_neighbors=best_params['knn'])),\n",
        "    ('dctree', DecisionTreeClassifier(splitter='random', max_depth=best_params['dctree'])),\n",
        "    ('svm', SVC(C=best_params['svm'], probability=True))\n",
        "]\n",
        "ensemble = StackingClassifier(estimators=base_models, final_estimator=LogisticRegression(), cv=5)\n",
        "\n",
        "ensemble.fit(X_train, y_train)\n"
      ],
      "metadata": {
        "colab": {
          "base_uri": "https://localhost:8080/",
          "height": 242
        },
        "id": "UdyZFEPKVM3f",
        "outputId": "b496b688-ca70-42ab-bde3-fb8afb26042b"
      },
      "execution_count": null,
      "outputs": [
        {
          "output_type": "execute_result",
          "data": {
            "text/plain": [
              "StackingClassifier(cv=5,\n",
              "                   estimators=[('lr',\n",
              "                                LogisticRegression(C=np.float64(0.1),\n",
              "                                                   solver='liblinear')),\n",
              "                               ('knn',\n",
              "                                KNeighborsClassifier(n_neighbors=np.int64(1))),\n",
              "                               ('dctree',\n",
              "                                DecisionTreeClassifier(max_depth=np.int64(14),\n",
              "                                                       splitter='random')),\n",
              "                               ('svm',\n",
              "                                SVC(C=np.float64(0.2), probability=True))],\n",
              "                   final_estimator=LogisticRegression())"
            ],
            "text/html": [
              "<style>#sk-container-id-1 {\n",
              "  /* Definition of color scheme common for light and dark mode */\n",
              "  --sklearn-color-text: #000;\n",
              "  --sklearn-color-text-muted: #666;\n",
              "  --sklearn-color-line: gray;\n",
              "  /* Definition of color scheme for unfitted estimators */\n",
              "  --sklearn-color-unfitted-level-0: #fff5e6;\n",
              "  --sklearn-color-unfitted-level-1: #f6e4d2;\n",
              "  --sklearn-color-unfitted-level-2: #ffe0b3;\n",
              "  --sklearn-color-unfitted-level-3: chocolate;\n",
              "  /* Definition of color scheme for fitted estimators */\n",
              "  --sklearn-color-fitted-level-0: #f0f8ff;\n",
              "  --sklearn-color-fitted-level-1: #d4ebff;\n",
              "  --sklearn-color-fitted-level-2: #b3dbfd;\n",
              "  --sklearn-color-fitted-level-3: cornflowerblue;\n",
              "\n",
              "  /* Specific color for light theme */\n",
              "  --sklearn-color-text-on-default-background: var(--sg-text-color, var(--theme-code-foreground, var(--jp-content-font-color1, black)));\n",
              "  --sklearn-color-background: var(--sg-background-color, var(--theme-background, var(--jp-layout-color0, white)));\n",
              "  --sklearn-color-border-box: var(--sg-text-color, var(--theme-code-foreground, var(--jp-content-font-color1, black)));\n",
              "  --sklearn-color-icon: #696969;\n",
              "\n",
              "  @media (prefers-color-scheme: dark) {\n",
              "    /* Redefinition of color scheme for dark theme */\n",
              "    --sklearn-color-text-on-default-background: var(--sg-text-color, var(--theme-code-foreground, var(--jp-content-font-color1, white)));\n",
              "    --sklearn-color-background: var(--sg-background-color, var(--theme-background, var(--jp-layout-color0, #111)));\n",
              "    --sklearn-color-border-box: var(--sg-text-color, var(--theme-code-foreground, var(--jp-content-font-color1, white)));\n",
              "    --sklearn-color-icon: #878787;\n",
              "  }\n",
              "}\n",
              "\n",
              "#sk-container-id-1 {\n",
              "  color: var(--sklearn-color-text);\n",
              "}\n",
              "\n",
              "#sk-container-id-1 pre {\n",
              "  padding: 0;\n",
              "}\n",
              "\n",
              "#sk-container-id-1 input.sk-hidden--visually {\n",
              "  border: 0;\n",
              "  clip: rect(1px 1px 1px 1px);\n",
              "  clip: rect(1px, 1px, 1px, 1px);\n",
              "  height: 1px;\n",
              "  margin: -1px;\n",
              "  overflow: hidden;\n",
              "  padding: 0;\n",
              "  position: absolute;\n",
              "  width: 1px;\n",
              "}\n",
              "\n",
              "#sk-container-id-1 div.sk-dashed-wrapped {\n",
              "  border: 1px dashed var(--sklearn-color-line);\n",
              "  margin: 0 0.4em 0.5em 0.4em;\n",
              "  box-sizing: border-box;\n",
              "  padding-bottom: 0.4em;\n",
              "  background-color: var(--sklearn-color-background);\n",
              "}\n",
              "\n",
              "#sk-container-id-1 div.sk-container {\n",
              "  /* jupyter's `normalize.less` sets `[hidden] { display: none; }`\n",
              "     but bootstrap.min.css set `[hidden] { display: none !important; }`\n",
              "     so we also need the `!important` here to be able to override the\n",
              "     default hidden behavior on the sphinx rendered scikit-learn.org.\n",
              "     See: https://github.com/scikit-learn/scikit-learn/issues/21755 */\n",
              "  display: inline-block !important;\n",
              "  position: relative;\n",
              "}\n",
              "\n",
              "#sk-container-id-1 div.sk-text-repr-fallback {\n",
              "  display: none;\n",
              "}\n",
              "\n",
              "div.sk-parallel-item,\n",
              "div.sk-serial,\n",
              "div.sk-item {\n",
              "  /* draw centered vertical line to link estimators */\n",
              "  background-image: linear-gradient(var(--sklearn-color-text-on-default-background), var(--sklearn-color-text-on-default-background));\n",
              "  background-size: 2px 100%;\n",
              "  background-repeat: no-repeat;\n",
              "  background-position: center center;\n",
              "}\n",
              "\n",
              "/* Parallel-specific style estimator block */\n",
              "\n",
              "#sk-container-id-1 div.sk-parallel-item::after {\n",
              "  content: \"\";\n",
              "  width: 100%;\n",
              "  border-bottom: 2px solid var(--sklearn-color-text-on-default-background);\n",
              "  flex-grow: 1;\n",
              "}\n",
              "\n",
              "#sk-container-id-1 div.sk-parallel {\n",
              "  display: flex;\n",
              "  align-items: stretch;\n",
              "  justify-content: center;\n",
              "  background-color: var(--sklearn-color-background);\n",
              "  position: relative;\n",
              "}\n",
              "\n",
              "#sk-container-id-1 div.sk-parallel-item {\n",
              "  display: flex;\n",
              "  flex-direction: column;\n",
              "}\n",
              "\n",
              "#sk-container-id-1 div.sk-parallel-item:first-child::after {\n",
              "  align-self: flex-end;\n",
              "  width: 50%;\n",
              "}\n",
              "\n",
              "#sk-container-id-1 div.sk-parallel-item:last-child::after {\n",
              "  align-self: flex-start;\n",
              "  width: 50%;\n",
              "}\n",
              "\n",
              "#sk-container-id-1 div.sk-parallel-item:only-child::after {\n",
              "  width: 0;\n",
              "}\n",
              "\n",
              "/* Serial-specific style estimator block */\n",
              "\n",
              "#sk-container-id-1 div.sk-serial {\n",
              "  display: flex;\n",
              "  flex-direction: column;\n",
              "  align-items: center;\n",
              "  background-color: var(--sklearn-color-background);\n",
              "  padding-right: 1em;\n",
              "  padding-left: 1em;\n",
              "}\n",
              "\n",
              "\n",
              "/* Toggleable style: style used for estimator/Pipeline/ColumnTransformer box that is\n",
              "clickable and can be expanded/collapsed.\n",
              "- Pipeline and ColumnTransformer use this feature and define the default style\n",
              "- Estimators will overwrite some part of the style using the `sk-estimator` class\n",
              "*/\n",
              "\n",
              "/* Pipeline and ColumnTransformer style (default) */\n",
              "\n",
              "#sk-container-id-1 div.sk-toggleable {\n",
              "  /* Default theme specific background. It is overwritten whether we have a\n",
              "  specific estimator or a Pipeline/ColumnTransformer */\n",
              "  background-color: var(--sklearn-color-background);\n",
              "}\n",
              "\n",
              "/* Toggleable label */\n",
              "#sk-container-id-1 label.sk-toggleable__label {\n",
              "  cursor: pointer;\n",
              "  display: flex;\n",
              "  width: 100%;\n",
              "  margin-bottom: 0;\n",
              "  padding: 0.5em;\n",
              "  box-sizing: border-box;\n",
              "  text-align: center;\n",
              "  align-items: start;\n",
              "  justify-content: space-between;\n",
              "  gap: 0.5em;\n",
              "}\n",
              "\n",
              "#sk-container-id-1 label.sk-toggleable__label .caption {\n",
              "  font-size: 0.6rem;\n",
              "  font-weight: lighter;\n",
              "  color: var(--sklearn-color-text-muted);\n",
              "}\n",
              "\n",
              "#sk-container-id-1 label.sk-toggleable__label-arrow:before {\n",
              "  /* Arrow on the left of the label */\n",
              "  content: \"▸\";\n",
              "  float: left;\n",
              "  margin-right: 0.25em;\n",
              "  color: var(--sklearn-color-icon);\n",
              "}\n",
              "\n",
              "#sk-container-id-1 label.sk-toggleable__label-arrow:hover:before {\n",
              "  color: var(--sklearn-color-text);\n",
              "}\n",
              "\n",
              "/* Toggleable content - dropdown */\n",
              "\n",
              "#sk-container-id-1 div.sk-toggleable__content {\n",
              "  max-height: 0;\n",
              "  max-width: 0;\n",
              "  overflow: hidden;\n",
              "  text-align: left;\n",
              "  /* unfitted */\n",
              "  background-color: var(--sklearn-color-unfitted-level-0);\n",
              "}\n",
              "\n",
              "#sk-container-id-1 div.sk-toggleable__content.fitted {\n",
              "  /* fitted */\n",
              "  background-color: var(--sklearn-color-fitted-level-0);\n",
              "}\n",
              "\n",
              "#sk-container-id-1 div.sk-toggleable__content pre {\n",
              "  margin: 0.2em;\n",
              "  border-radius: 0.25em;\n",
              "  color: var(--sklearn-color-text);\n",
              "  /* unfitted */\n",
              "  background-color: var(--sklearn-color-unfitted-level-0);\n",
              "}\n",
              "\n",
              "#sk-container-id-1 div.sk-toggleable__content.fitted pre {\n",
              "  /* unfitted */\n",
              "  background-color: var(--sklearn-color-fitted-level-0);\n",
              "}\n",
              "\n",
              "#sk-container-id-1 input.sk-toggleable__control:checked~div.sk-toggleable__content {\n",
              "  /* Expand drop-down */\n",
              "  max-height: 200px;\n",
              "  max-width: 100%;\n",
              "  overflow: auto;\n",
              "}\n",
              "\n",
              "#sk-container-id-1 input.sk-toggleable__control:checked~label.sk-toggleable__label-arrow:before {\n",
              "  content: \"▾\";\n",
              "}\n",
              "\n",
              "/* Pipeline/ColumnTransformer-specific style */\n",
              "\n",
              "#sk-container-id-1 div.sk-label input.sk-toggleable__control:checked~label.sk-toggleable__label {\n",
              "  color: var(--sklearn-color-text);\n",
              "  background-color: var(--sklearn-color-unfitted-level-2);\n",
              "}\n",
              "\n",
              "#sk-container-id-1 div.sk-label.fitted input.sk-toggleable__control:checked~label.sk-toggleable__label {\n",
              "  background-color: var(--sklearn-color-fitted-level-2);\n",
              "}\n",
              "\n",
              "/* Estimator-specific style */\n",
              "\n",
              "/* Colorize estimator box */\n",
              "#sk-container-id-1 div.sk-estimator input.sk-toggleable__control:checked~label.sk-toggleable__label {\n",
              "  /* unfitted */\n",
              "  background-color: var(--sklearn-color-unfitted-level-2);\n",
              "}\n",
              "\n",
              "#sk-container-id-1 div.sk-estimator.fitted input.sk-toggleable__control:checked~label.sk-toggleable__label {\n",
              "  /* fitted */\n",
              "  background-color: var(--sklearn-color-fitted-level-2);\n",
              "}\n",
              "\n",
              "#sk-container-id-1 div.sk-label label.sk-toggleable__label,\n",
              "#sk-container-id-1 div.sk-label label {\n",
              "  /* The background is the default theme color */\n",
              "  color: var(--sklearn-color-text-on-default-background);\n",
              "}\n",
              "\n",
              "/* On hover, darken the color of the background */\n",
              "#sk-container-id-1 div.sk-label:hover label.sk-toggleable__label {\n",
              "  color: var(--sklearn-color-text);\n",
              "  background-color: var(--sklearn-color-unfitted-level-2);\n",
              "}\n",
              "\n",
              "/* Label box, darken color on hover, fitted */\n",
              "#sk-container-id-1 div.sk-label.fitted:hover label.sk-toggleable__label.fitted {\n",
              "  color: var(--sklearn-color-text);\n",
              "  background-color: var(--sklearn-color-fitted-level-2);\n",
              "}\n",
              "\n",
              "/* Estimator label */\n",
              "\n",
              "#sk-container-id-1 div.sk-label label {\n",
              "  font-family: monospace;\n",
              "  font-weight: bold;\n",
              "  display: inline-block;\n",
              "  line-height: 1.2em;\n",
              "}\n",
              "\n",
              "#sk-container-id-1 div.sk-label-container {\n",
              "  text-align: center;\n",
              "}\n",
              "\n",
              "/* Estimator-specific */\n",
              "#sk-container-id-1 div.sk-estimator {\n",
              "  font-family: monospace;\n",
              "  border: 1px dotted var(--sklearn-color-border-box);\n",
              "  border-radius: 0.25em;\n",
              "  box-sizing: border-box;\n",
              "  margin-bottom: 0.5em;\n",
              "  /* unfitted */\n",
              "  background-color: var(--sklearn-color-unfitted-level-0);\n",
              "}\n",
              "\n",
              "#sk-container-id-1 div.sk-estimator.fitted {\n",
              "  /* fitted */\n",
              "  background-color: var(--sklearn-color-fitted-level-0);\n",
              "}\n",
              "\n",
              "/* on hover */\n",
              "#sk-container-id-1 div.sk-estimator:hover {\n",
              "  /* unfitted */\n",
              "  background-color: var(--sklearn-color-unfitted-level-2);\n",
              "}\n",
              "\n",
              "#sk-container-id-1 div.sk-estimator.fitted:hover {\n",
              "  /* fitted */\n",
              "  background-color: var(--sklearn-color-fitted-level-2);\n",
              "}\n",
              "\n",
              "/* Specification for estimator info (e.g. \"i\" and \"?\") */\n",
              "\n",
              "/* Common style for \"i\" and \"?\" */\n",
              "\n",
              ".sk-estimator-doc-link,\n",
              "a:link.sk-estimator-doc-link,\n",
              "a:visited.sk-estimator-doc-link {\n",
              "  float: right;\n",
              "  font-size: smaller;\n",
              "  line-height: 1em;\n",
              "  font-family: monospace;\n",
              "  background-color: var(--sklearn-color-background);\n",
              "  border-radius: 1em;\n",
              "  height: 1em;\n",
              "  width: 1em;\n",
              "  text-decoration: none !important;\n",
              "  margin-left: 0.5em;\n",
              "  text-align: center;\n",
              "  /* unfitted */\n",
              "  border: var(--sklearn-color-unfitted-level-1) 1pt solid;\n",
              "  color: var(--sklearn-color-unfitted-level-1);\n",
              "}\n",
              "\n",
              ".sk-estimator-doc-link.fitted,\n",
              "a:link.sk-estimator-doc-link.fitted,\n",
              "a:visited.sk-estimator-doc-link.fitted {\n",
              "  /* fitted */\n",
              "  border: var(--sklearn-color-fitted-level-1) 1pt solid;\n",
              "  color: var(--sklearn-color-fitted-level-1);\n",
              "}\n",
              "\n",
              "/* On hover */\n",
              "div.sk-estimator:hover .sk-estimator-doc-link:hover,\n",
              ".sk-estimator-doc-link:hover,\n",
              "div.sk-label-container:hover .sk-estimator-doc-link:hover,\n",
              ".sk-estimator-doc-link:hover {\n",
              "  /* unfitted */\n",
              "  background-color: var(--sklearn-color-unfitted-level-3);\n",
              "  color: var(--sklearn-color-background);\n",
              "  text-decoration: none;\n",
              "}\n",
              "\n",
              "div.sk-estimator.fitted:hover .sk-estimator-doc-link.fitted:hover,\n",
              ".sk-estimator-doc-link.fitted:hover,\n",
              "div.sk-label-container:hover .sk-estimator-doc-link.fitted:hover,\n",
              ".sk-estimator-doc-link.fitted:hover {\n",
              "  /* fitted */\n",
              "  background-color: var(--sklearn-color-fitted-level-3);\n",
              "  color: var(--sklearn-color-background);\n",
              "  text-decoration: none;\n",
              "}\n",
              "\n",
              "/* Span, style for the box shown on hovering the info icon */\n",
              ".sk-estimator-doc-link span {\n",
              "  display: none;\n",
              "  z-index: 9999;\n",
              "  position: relative;\n",
              "  font-weight: normal;\n",
              "  right: .2ex;\n",
              "  padding: .5ex;\n",
              "  margin: .5ex;\n",
              "  width: min-content;\n",
              "  min-width: 20ex;\n",
              "  max-width: 50ex;\n",
              "  color: var(--sklearn-color-text);\n",
              "  box-shadow: 2pt 2pt 4pt #999;\n",
              "  /* unfitted */\n",
              "  background: var(--sklearn-color-unfitted-level-0);\n",
              "  border: .5pt solid var(--sklearn-color-unfitted-level-3);\n",
              "}\n",
              "\n",
              ".sk-estimator-doc-link.fitted span {\n",
              "  /* fitted */\n",
              "  background: var(--sklearn-color-fitted-level-0);\n",
              "  border: var(--sklearn-color-fitted-level-3);\n",
              "}\n",
              "\n",
              ".sk-estimator-doc-link:hover span {\n",
              "  display: block;\n",
              "}\n",
              "\n",
              "/* \"?\"-specific style due to the `<a>` HTML tag */\n",
              "\n",
              "#sk-container-id-1 a.estimator_doc_link {\n",
              "  float: right;\n",
              "  font-size: 1rem;\n",
              "  line-height: 1em;\n",
              "  font-family: monospace;\n",
              "  background-color: var(--sklearn-color-background);\n",
              "  border-radius: 1rem;\n",
              "  height: 1rem;\n",
              "  width: 1rem;\n",
              "  text-decoration: none;\n",
              "  /* unfitted */\n",
              "  color: var(--sklearn-color-unfitted-level-1);\n",
              "  border: var(--sklearn-color-unfitted-level-1) 1pt solid;\n",
              "}\n",
              "\n",
              "#sk-container-id-1 a.estimator_doc_link.fitted {\n",
              "  /* fitted */\n",
              "  border: var(--sklearn-color-fitted-level-1) 1pt solid;\n",
              "  color: var(--sklearn-color-fitted-level-1);\n",
              "}\n",
              "\n",
              "/* On hover */\n",
              "#sk-container-id-1 a.estimator_doc_link:hover {\n",
              "  /* unfitted */\n",
              "  background-color: var(--sklearn-color-unfitted-level-3);\n",
              "  color: var(--sklearn-color-background);\n",
              "  text-decoration: none;\n",
              "}\n",
              "\n",
              "#sk-container-id-1 a.estimator_doc_link.fitted:hover {\n",
              "  /* fitted */\n",
              "  background-color: var(--sklearn-color-fitted-level-3);\n",
              "}\n",
              "</style><div id=\"sk-container-id-1\" class=\"sk-top-container\"><div class=\"sk-text-repr-fallback\"><pre>StackingClassifier(cv=5,\n",
              "                   estimators=[(&#x27;lr&#x27;,\n",
              "                                LogisticRegression(C=np.float64(0.1),\n",
              "                                                   solver=&#x27;liblinear&#x27;)),\n",
              "                               (&#x27;knn&#x27;,\n",
              "                                KNeighborsClassifier(n_neighbors=np.int64(1))),\n",
              "                               (&#x27;dctree&#x27;,\n",
              "                                DecisionTreeClassifier(max_depth=np.int64(14),\n",
              "                                                       splitter=&#x27;random&#x27;)),\n",
              "                               (&#x27;svm&#x27;,\n",
              "                                SVC(C=np.float64(0.2), probability=True))],\n",
              "                   final_estimator=LogisticRegression())</pre><b>In a Jupyter environment, please rerun this cell to show the HTML representation or trust the notebook. <br />On GitHub, the HTML representation is unable to render, please try loading this page with nbviewer.org.</b></div><div class=\"sk-container\" hidden><div class=\"sk-item sk-dashed-wrapped\"><div class=\"sk-label-container\"><div class=\"sk-label fitted sk-toggleable\"><input class=\"sk-toggleable__control sk-hidden--visually\" id=\"sk-estimator-id-1\" type=\"checkbox\" ><label for=\"sk-estimator-id-1\" class=\"sk-toggleable__label fitted sk-toggleable__label-arrow\"><div><div>StackingClassifier</div></div><div><a class=\"sk-estimator-doc-link fitted\" rel=\"noreferrer\" target=\"_blank\" href=\"https://scikit-learn.org/1.6/modules/generated/sklearn.ensemble.StackingClassifier.html\">?<span>Documentation for StackingClassifier</span></a><span class=\"sk-estimator-doc-link fitted\">i<span>Fitted</span></span></div></label><div class=\"sk-toggleable__content fitted\"><pre>StackingClassifier(cv=5,\n",
              "                   estimators=[(&#x27;lr&#x27;,\n",
              "                                LogisticRegression(C=np.float64(0.1),\n",
              "                                                   solver=&#x27;liblinear&#x27;)),\n",
              "                               (&#x27;knn&#x27;,\n",
              "                                KNeighborsClassifier(n_neighbors=np.int64(1))),\n",
              "                               (&#x27;dctree&#x27;,\n",
              "                                DecisionTreeClassifier(max_depth=np.int64(14),\n",
              "                                                       splitter=&#x27;random&#x27;)),\n",
              "                               (&#x27;svm&#x27;,\n",
              "                                SVC(C=np.float64(0.2), probability=True))],\n",
              "                   final_estimator=LogisticRegression())</pre></div> </div></div><div class=\"sk-serial\"><div class=\"sk-item\"><div class=\"sk-parallel\"><div class=\"sk-parallel-item\"><div class=\"sk-item\"><div class=\"sk-label-container\"><div class=\"sk-label fitted sk-toggleable\"><label>lr</label></div></div><div class=\"sk-serial\"><div class=\"sk-item\"><div class=\"sk-estimator fitted sk-toggleable\"><input class=\"sk-toggleable__control sk-hidden--visually\" id=\"sk-estimator-id-2\" type=\"checkbox\" ><label for=\"sk-estimator-id-2\" class=\"sk-toggleable__label fitted sk-toggleable__label-arrow\"><div><div>LogisticRegression</div></div><div><a class=\"sk-estimator-doc-link fitted\" rel=\"noreferrer\" target=\"_blank\" href=\"https://scikit-learn.org/1.6/modules/generated/sklearn.linear_model.LogisticRegression.html\">?<span>Documentation for LogisticRegression</span></a></div></label><div class=\"sk-toggleable__content fitted\"><pre>LogisticRegression(C=np.float64(0.1), solver=&#x27;liblinear&#x27;)</pre></div> </div></div></div></div></div><div class=\"sk-parallel-item\"><div class=\"sk-item\"><div class=\"sk-label-container\"><div class=\"sk-label fitted sk-toggleable\"><label>knn</label></div></div><div class=\"sk-serial\"><div class=\"sk-item\"><div class=\"sk-estimator fitted sk-toggleable\"><input class=\"sk-toggleable__control sk-hidden--visually\" id=\"sk-estimator-id-3\" type=\"checkbox\" ><label for=\"sk-estimator-id-3\" class=\"sk-toggleable__label fitted sk-toggleable__label-arrow\"><div><div>KNeighborsClassifier</div></div><div><a class=\"sk-estimator-doc-link fitted\" rel=\"noreferrer\" target=\"_blank\" href=\"https://scikit-learn.org/1.6/modules/generated/sklearn.neighbors.KNeighborsClassifier.html\">?<span>Documentation for KNeighborsClassifier</span></a></div></label><div class=\"sk-toggleable__content fitted\"><pre>KNeighborsClassifier(n_neighbors=np.int64(1))</pre></div> </div></div></div></div></div><div class=\"sk-parallel-item\"><div class=\"sk-item\"><div class=\"sk-label-container\"><div class=\"sk-label fitted sk-toggleable\"><label>dctree</label></div></div><div class=\"sk-serial\"><div class=\"sk-item\"><div class=\"sk-estimator fitted sk-toggleable\"><input class=\"sk-toggleable__control sk-hidden--visually\" id=\"sk-estimator-id-4\" type=\"checkbox\" ><label for=\"sk-estimator-id-4\" class=\"sk-toggleable__label fitted sk-toggleable__label-arrow\"><div><div>DecisionTreeClassifier</div></div><div><a class=\"sk-estimator-doc-link fitted\" rel=\"noreferrer\" target=\"_blank\" href=\"https://scikit-learn.org/1.6/modules/generated/sklearn.tree.DecisionTreeClassifier.html\">?<span>Documentation for DecisionTreeClassifier</span></a></div></label><div class=\"sk-toggleable__content fitted\"><pre>DecisionTreeClassifier(max_depth=np.int64(14), splitter=&#x27;random&#x27;)</pre></div> </div></div></div></div></div><div class=\"sk-parallel-item\"><div class=\"sk-item\"><div class=\"sk-label-container\"><div class=\"sk-label fitted sk-toggleable\"><label>svm</label></div></div><div class=\"sk-serial\"><div class=\"sk-item\"><div class=\"sk-estimator fitted sk-toggleable\"><input class=\"sk-toggleable__control sk-hidden--visually\" id=\"sk-estimator-id-5\" type=\"checkbox\" ><label for=\"sk-estimator-id-5\" class=\"sk-toggleable__label fitted sk-toggleable__label-arrow\"><div><div>SVC</div></div><div><a class=\"sk-estimator-doc-link fitted\" rel=\"noreferrer\" target=\"_blank\" href=\"https://scikit-learn.org/1.6/modules/generated/sklearn.svm.SVC.html\">?<span>Documentation for SVC</span></a></div></label><div class=\"sk-toggleable__content fitted\"><pre>SVC(C=np.float64(0.2), probability=True)</pre></div> </div></div></div></div></div></div></div><div class=\"sk-item\"><div class=\"sk-parallel\"><div class=\"sk-parallel-item\"><div class=\"sk-item\"><div class=\"sk-label-container\"><div class=\"sk-label fitted sk-toggleable\"><label>final_estimator</label></div></div><div class=\"sk-serial\"><div class=\"sk-item\"><div class=\"sk-estimator fitted sk-toggleable\"><input class=\"sk-toggleable__control sk-hidden--visually\" id=\"sk-estimator-id-6\" type=\"checkbox\" ><label for=\"sk-estimator-id-6\" class=\"sk-toggleable__label fitted sk-toggleable__label-arrow\"><div><div>LogisticRegression</div></div><div><a class=\"sk-estimator-doc-link fitted\" rel=\"noreferrer\" target=\"_blank\" href=\"https://scikit-learn.org/1.6/modules/generated/sklearn.linear_model.LogisticRegression.html\">?<span>Documentation for LogisticRegression</span></a></div></label><div class=\"sk-toggleable__content fitted\"><pre>LogisticRegression()</pre></div> </div></div></div></div></div></div></div></div></div></div></div>"
            ]
          },
          "metadata": {},
          "execution_count": 38
        }
      ]
    },
    {
      "cell_type": "code",
      "source": [
        "# Evaluate Models\n",
        "def evaluate_models():\n",
        "    models = {\n",
        "        'KNN': KNeighborsClassifier(n_neighbors=best_params['knn']),\n",
        "        'Decision Tree': DecisionTreeClassifier(splitter='random', max_depth=best_params['dctree']),\n",
        "        'Logistic Regression': LogisticRegression(solver='liblinear', C=best_params['logreg']),\n",
        "        'SVM': SVC(C=best_params['svm'], probability=True)\n",
        "    }\n",
        "    results = {}\n",
        "    for name, clf in models.items():\n",
        "        clf.fit(X_train, y_train)\n",
        "        train_acc = clf.score(X_train, y_train)\n",
        "        test_acc = clf.score(X_test, y_test)\n",
        "        results[name] = (train_acc, test_acc)\n",
        "    results['Stacking Ensemble'] = (ensemble.score(X_train, y_train), ensemble.score(X_test, y_test))\n",
        "    return results\n",
        "\n",
        "results = evaluate_models()"
      ],
      "metadata": {
        "id": "-YDr9j-LVmMH"
      },
      "execution_count": null,
      "outputs": []
    },
    {
      "cell_type": "code",
      "source": [
        "# Plot accuracies\n",
        "models = list(results.keys())\n",
        "train_acc = [results[m][0] for m in models]\n",
        "test_acc = [results[m][1] for m in models]\n",
        "\n",
        "plt.figure(figsize=(10,6))\n",
        "x = np.arange(len(models))\n",
        "plt.bar(x-0.2, train_acc, width=0.4, label='Train Accuracy')\n",
        "plt.bar(x+0.2, test_acc, width=0.4, label='Test Accuracy')\n",
        "plt.xticks(x, models, rotation=45)\n",
        "plt.ylabel('Accuracy')\n",
        "plt.title('Model Train vs Test Accuracy')\n",
        "plt.legend()\n",
        "plt.grid(True)\n",
        "plt.show()"
      ],
      "metadata": {
        "colab": {
          "base_uri": "https://localhost:8080/",
          "height": 635
        },
        "id": "g0dtnRzBVzPv",
        "outputId": "0a09a547-f40a-4b1b-a59c-e5aedffdd641"
      },
      "execution_count": null,
      "outputs": [
        {
          "output_type": "display_data",
          "data": {
            "text/plain": [
              "<Figure size 1000x600 with 1 Axes>"
            ],
            "image/png": "[encoded data removed]"
          },
          "metadata": {}
        }
      ]
    },
    {
      "cell_type": "code",
      "source": [
        "# Confusion Matrix for Stacked Ensemble\n",
        "y_pred = ensemble.predict(X_test)\n",
        "cm = confusion_matrix(y_test, y_pred)\n",
        "plt.figure(figsize=(10,8))\n",
        "sns.heatmap(cm, annot=False, cmap='Blues', fmt='d')\n",
        "plt.title('Confusion Matrix')\n",
        "plt.xlabel('Predicted')\n",
        "plt.ylabel('True')\n",
        "plt.show()"
      ],
      "metadata": {
        "colab": {
          "base_uri": "https://localhost:8080/",
          "height": 722
        },
        "id": "whO8n7GmV2hq",
        "outputId": "b1670f88-b889-4039-d5d2-53a30ad11473"
      },
      "execution_count": null,
      "outputs": [
        {
          "output_type": "display_data",
          "data": {
            "text/plain": [
              "<Figure size 1000x800 with 2 Axes>"
            ],
            "image/png": "[encoded data removed]"
          },
          "metadata": {}
        }
      ]
    },
    {
      "cell_type": "code",
      "source": [
        "# Classification Report\n",
        "print(classification_report(y_test, y_pred))"
      ],
      "metadata": {
        "colab": {
          "base_uri": "https://localhost:8080/"
        },
        "id": "qU34RGHJV6JR",
        "outputId": "e5529258-1ff1-42ab-fa9b-356bcf7a7be0"
      },
      "execution_count": null,
      "outputs": [
        {
          "output_type": "stream",
          "name": "stdout",
          "text": [
            "              precision    recall  f1-score   support\n",
            "\n",
            "           0       1.00      1.00      1.00        24\n",
            "           1       1.00      1.00      1.00        24\n",
            "           2       1.00      1.00      1.00        24\n",
            "           3       1.00      1.00      1.00        24\n",
            "           4       1.00      1.00      1.00        24\n",
            "           5       1.00      1.00      1.00        24\n",
            "           6       1.00      1.00      1.00        24\n",
            "           7       1.00      1.00      1.00        24\n",
            "           8       1.00      1.00      1.00        24\n",
            "           9       1.00      1.00      1.00        24\n",
            "          10       1.00      1.00      1.00        24\n",
            "          11       1.00      1.00      1.00        24\n",
            "          12       1.00      1.00      1.00        24\n",
            "          13       1.00      1.00      1.00        24\n",
            "          14       1.00      1.00      1.00        24\n",
            "          15       1.00      1.00      1.00        24\n",
            "          16       1.00      1.00      1.00        24\n",
            "          17       1.00      1.00      1.00        24\n",
            "          18       1.00      1.00      1.00        24\n",
            "          19       1.00      1.00      1.00        24\n",
            "          20       1.00      1.00      1.00        24\n",
            "          21       1.00      1.00      1.00        24\n",
            "          22       1.00      1.00      1.00        24\n",
            "          23       1.00      1.00      1.00        24\n",
            "          24       1.00      1.00      1.00        24\n",
            "          25       1.00      1.00      1.00        24\n",
            "          26       1.00      1.00      1.00        24\n",
            "          27       1.00      1.00      1.00        24\n",
            "          28       1.00      1.00      1.00        24\n",
            "          29       1.00      1.00      1.00        24\n",
            "          30       1.00      1.00      1.00        24\n",
            "          31       1.00      1.00      1.00        24\n",
            "          32       1.00      1.00      1.00        24\n",
            "          33       1.00      1.00      1.00        24\n",
            "          34       1.00      1.00      1.00        24\n",
            "          35       1.00      1.00      1.00        24\n",
            "          36       1.00      1.00      1.00        24\n",
            "          37       1.00      1.00      1.00        24\n",
            "          38       1.00      1.00      1.00        24\n",
            "          39       1.00      1.00      1.00        24\n",
            "          40       1.00      1.00      1.00        24\n",
            "\n",
            "    accuracy                           1.00       984\n",
            "   macro avg       1.00      1.00      1.00       984\n",
            "weighted avg       1.00      1.00      1.00       984\n",
            "\n"
          ]
        }
      ]
    },
    {
      "cell_type": "code",
      "source": [
        "# Save ensemble model\n",
        "with open(\"fitted_model_stacked_final.pkl\", \"wb\") as f:\n",
        "    pickle.dump(ensemble, f)\n",
        "\n",
        "print(\"\\u2705 Full Pipeline Complete!\")"
      ],
      "metadata": {
        "colab": {
          "base_uri": "https://localhost:8080/"
        },
        "id": "L3hnEgakV9lD",
        "outputId": "5af6cb4e-487d-4b2b-dcbc-458c0598b5d4"
      },
      "execution_count": null,
      "outputs": [
        {
          "output_type": "stream",
          "name": "stdout",
          "text": [
            "✅ Full Pipeline Complete!\n"
          ]
        }
      ]
    },
    {
      "cell_type": "code",
      "source": [
        "### 3. Demo: Full Input -> Symptom Extraction -> Disease Prediction\n",
        "\n",
        "def predict_pipeline(user_input):\n",
        "    model.eval()\n",
        "    tokens = tokenize(user_input)\n",
        "    indices = sentence_to_indices(' '.join(tokens), word2idx, max_len)\n",
        "    input_tensor = torch.tensor(indices, dtype=torch.long).unsqueeze(0)\n",
        "    output = model(input_tensor)\n",
        "    preds = torch.sigmoid(output).squeeze().detach().numpy()\n",
        "    symptoms = [all_tags[idx] for idx, p in enumerate(preds) if p > 0.5]\n",
        "    print(f\"\\nExtracted Symptoms: {symptoms}\")\n",
        "\n",
        "    feature_vector = [0] * len(X.columns)\n",
        "    for symptom in symptoms:\n",
        "        if symptom in X.columns:\n",
        "            feature_vector[X.columns.tolist().index(symptom)] = 1\n",
        "\n",
        "    prediction = ensemble.predict([feature_vector])[0]\n",
        "    disease = le.inverse_transform([prediction])[0]\n",
        "    print(f\"Predicted Disease: {disease}\\n\")\n",
        "\n",
        "# Example usage\n",
        "predict_pipeline(\"I have been feeling very tired and my eyes are red.\")\n",
        "predict_pipeline(\"Cough and sneezing with body aches.\")\n"
      ],
      "metadata": {
        "colab": {
          "base_uri": "https://localhost:8080/"
        },
        "id": "B74ZWlUqWA2-",
        "outputId": "ee8b5093-a261-43b0-a1fe-862a785022a8"
      },
      "execution_count": null,
      "outputs": [
        {
          "output_type": "stream",
          "name": "stdout",
          "text": [
            "\n",
            "Extracted Symptoms: ['sunken_eyes']\n",
            "Predicted Disease: Gastroenteritis\n",
            "\n",
            "\n",
            "Extracted Symptoms: ['continuous_sneezing']\n",
            "Predicted Disease: Allergy\n",
            "\n"
          ]
        },
        {
          "output_type": "stream",
          "name": "stderr",
          "text": [
            "/usr/local/lib/python3.11/dist-packages/sklearn/utils/validation.py:2739: UserWarning: X does not have valid feature names, but LogisticRegression was fitted with feature names\n",
            "  warnings.warn(\n",
            "/usr/local/lib/python3.11/dist-packages/sklearn/utils/validation.py:2739: UserWarning: X does not have valid feature names, but KNeighborsClassifier was fitted with feature names\n",
            "  warnings.warn(\n",
            "/usr/local/lib/python3.11/dist-packages/sklearn/utils/validation.py:2739: UserWarning: X does not have valid feature names, but DecisionTreeClassifier was fitted with feature names\n",
            "  warnings.warn(\n",
            "/usr/local/lib/python3.11/dist-packages/sklearn/utils/validation.py:2739: UserWarning: X does not have valid feature names, but SVC was fitted with feature names\n",
            "  warnings.warn(\n",
            "/usr/local/lib/python3.11/dist-packages/sklearn/utils/validation.py:2739: UserWarning: X does not have valid feature names, but LogisticRegression was fitted with feature names\n",
            "  warnings.warn(\n",
            "/usr/local/lib/python3.11/dist-packages/sklearn/utils/validation.py:2739: UserWarning: X does not have valid feature names, but KNeighborsClassifier was fitted with feature names\n",
            "  warnings.warn(\n",
            "/usr/local/lib/python3.11/dist-packages/sklearn/utils/validation.py:2739: UserWarning: X does not have valid feature names, but DecisionTreeClassifier was fitted with feature names\n",
            "  warnings.warn(\n",
            "/usr/local/lib/python3.11/dist-packages/sklearn/utils/validation.py:2739: UserWarning: X does not have valid feature names, but SVC was fitted with feature names\n",
            "  warnings.warn(\n"
          ]
        }
      ]
    },
    {
      "cell_type": "code",
      "source": [],
      "metadata": {
        "id": "p2eqwJfYWDtA"
      },
      "execution_count": null,
      "outputs": []
    }
  ],
  "metadata": {
    "accelerator": "GPU",
    "colab": {
      "gpuType": "T4",
      "provenance": []
    },
    "kernelspec": {
      "display_name": "Python 3",
      "name": "python3"
    },
    "language_info": {
      "name": "python"
    }
  },
  "nbformat": 4,
  "nbformat_minor": 0
}